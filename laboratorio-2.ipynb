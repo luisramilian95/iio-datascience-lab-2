{
 "cells": [
  {
   "attachments": {},
   "cell_type": "markdown",
   "metadata": {},
   "source": [
    "A continuación se le muestran una lista de ejercicios que deberá completar utilizando Python, debe usar Markdown para indicar donde inicia cada uno de los ejercicios."
   ]
  },
  {
   "attachments": {},
   "cell_type": "markdown",
   "metadata": {},
   "source": [
    "## Problema 1\n",
    "\n",
    "Haga un programa en Python que reciba de parámetro un número de segundos y que despliegue en pantalla, las horas, minutos y segundos que representan. Por ejemplo:\n",
    "\n",
    "- Si el número de segundos recibidos fuera: 2743 entonces su programa debería desplegar:\n",
    "    Horas: 0, Minutos: 45, Segundos: 43\n",
    "- Si el número de segundos recibidos fuera 5871: Horas: 1, Minutos: 37 , Segundos: 51"
   ]
  },
  {
   "cell_type": "code",
   "execution_count": 1,
   "metadata": {},
   "outputs": [],
   "source": [
    "def problem_1(seconds) :\n",
    "    hours =   seconds // 3600 \n",
    "    seconds = seconds % 3600 \n",
    "    minutes = (seconds // 60)\n",
    "    seconds = seconds % 60\n",
    "\n",
    "    print (f\"Horas: {hours}, Minutos: {minutes}, Segundos: {seconds}\")"
   ]
  },
  {
   "cell_type": "code",
   "execution_count": 2,
   "metadata": {},
   "outputs": [
    {
     "name": "stdout",
     "output_type": "stream",
     "text": [
      "Horas: 0, Minutos: 45, Segundos: 43\n"
     ]
    }
   ],
   "source": [
    "problem_1(2743)"
   ]
  },
  {
   "cell_type": "code",
   "execution_count": 3,
   "metadata": {},
   "outputs": [
    {
     "name": "stdout",
     "output_type": "stream",
     "text": [
      "Horas: 1, Minutos: 37, Segundos: 51\n"
     ]
    }
   ],
   "source": [
    "problem_1(5871)"
   ]
  },
  {
   "attachments": {},
   "cell_type": "markdown",
   "metadata": {},
   "source": [
    "## Problema 2\n",
    "Haga una función en Python que dado un número entre 1 y 20. Y un carácter cualquiera despliegue cuatro patrones triangulares."
   ]
  },
  {
   "cell_type": "code",
   "execution_count": 4,
   "metadata": {},
   "outputs": [],
   "source": [
    "def problem_2(number=1,  characters='*'):\n",
    "\n",
    "    line = \"\"\n",
    "    spaces = number*\" \"\n",
    "    for n in range(number):\n",
    "        line = (n+1)*characters + 2*spaces \n",
    "        line +=  (number-n)*characters + 2*spaces \n",
    "        line += (number-n)*characters + 2*spaces \n",
    "        line += (n+1)*(characters)\n",
    "\n",
    "        print(line)"
   ]
  },
  {
   "cell_type": "code",
   "execution_count": 5,
   "metadata": {},
   "outputs": [
    {
     "name": "stdout",
     "output_type": "stream",
     "text": [
      "*          *****          *****          *\n",
      "**          ****          ****          **\n",
      "***          ***          ***          ***\n",
      "****          **          **          ****\n",
      "*****          *          *          *****\n"
     ]
    }
   ],
   "source": [
    "problem_2(5)"
   ]
  },
  {
   "attachments": {},
   "cell_type": "markdown",
   "metadata": {},
   "source": [
    "## Problema 3\n",
    "Haga un programa en Python que la fecha de nacimiento de una persona (puede ingresar por separado cada valor, es decir pedir primero día, luego mes y luego año), despliegue la edad de la persona en años, meses y días. Su resultado puede ser aproximado."
   ]
  },
  {
   "cell_type": "code",
   "execution_count": 6,
   "metadata": {},
   "outputs": [],
   "source": [
    "\n",
    "from datetime import datetime\n",
    "\n",
    "def problem_3(day, month, year):\n",
    "    current_date = datetime.today()\n",
    "    birthday = datetime.strptime(f\"{month}-{day}-{year}\", '%m-%d-%Y')\n",
    "\n",
    "    years = current_date.year - birthday.year \n",
    "    months = current_date.month - birthday.month\n",
    "    days = current_date.day - birthday.day\n",
    "  \n",
    "    if (months == 0) :      \n",
    "        if (days < 0): \n",
    "            years = years - 1\n",
    "            months = 11\n",
    "            days = 30 - birthday.day + current_date.day\n",
    "\n",
    "    if (months < 0) :\n",
    "        years = years - 1\n",
    "        months = 12 + months\n",
    "        if (days < 0): \n",
    "            days = 30 - birthday.day + current_date.day\n",
    "        \n",
    "\n",
    "    print(f\"{years} años, {months} meses, {days} días\")"
   ]
  },
  {
   "cell_type": "code",
   "execution_count": 7,
   "metadata": {},
   "outputs": [
    {
     "name": "stdout",
     "output_type": "stream",
     "text": [
      "28 años, 11 meses, 29 días\n"
     ]
    }
   ],
   "source": [
    "problem_3(14, 4, 1994)"
   ]
  },
  {
   "attachments": {},
   "cell_type": "markdown",
   "metadata": {},
   "source": [
    "## Problema 4\n",
    "\n",
    "Escriba una función en Python que dada una tupla de elementos (números o letras) esta se convierta a un string. Tomar nota del siguiente ejemplo:\n",
    "\n",
    "- Si la entrada fuera: (10, 20, 40, 5, 70)\n",
    "- La salida debería ser: 102040570"
   ]
  },
  {
   "cell_type": "code",
   "execution_count": 8,
   "metadata": {},
   "outputs": [],
   "source": [
    "def problem_4(numbers = ()):\n",
    "\n",
    "    result = \"\"\n",
    "    for n in numbers:\n",
    "        result += f\"{n}\" \n",
    "\n",
    "    print(result)"
   ]
  },
  {
   "cell_type": "code",
   "execution_count": 9,
   "metadata": {},
   "outputs": [
    {
     "name": "stdout",
     "output_type": "stream",
     "text": [
      "102040570\n"
     ]
    }
   ],
   "source": [
    "problem_4((10, 20, 40, 5, 70))"
   ]
  },
  {
   "attachments": {},
   "cell_type": "markdown",
   "metadata": {},
   "source": [
    "## Problema 5\n",
    "Cree un programa en Python que dada una lista de tuplas, elimine las tuplas que están vacías.\n",
    "\n",
    "Tomar nota del siguiente ejemplo:\n",
    "\n",
    "- Si la lista fuera: [(), (), ('X',), ('a', 'b'), ('a', 'b', 'c'), ('d')]\n",
    "- El resultado debería ser: [('X'), ('a', 'b'), ('a', 'b', 'c'), 'd']"
   ]
  },
  {
   "cell_type": "code",
   "execution_count": 10,
   "metadata": {},
   "outputs": [],
   "source": [
    "def problem_5(tuples=[(), (), ('X',), ('a', 'b'), ('a', 'b', 'c'), ('d')]):\n",
    "    \n",
    "    result = []\n",
    "    for elements in tuples:\n",
    "        if (len(elements) > 0) : \n",
    "            result.append(elements)\n",
    "\n",
    "    print(result)"
   ]
  },
  {
   "cell_type": "code",
   "execution_count": 11,
   "metadata": {},
   "outputs": [
    {
     "name": "stdout",
     "output_type": "stream",
     "text": [
      "[('X',), ('a', 'b'), ('a', 'b', 'c'), 'd']\n"
     ]
    }
   ],
   "source": [
    "problem_5()"
   ]
  },
  {
   "attachments": {},
   "cell_type": "markdown",
   "metadata": {},
   "source": [
    "## Problema 6\n",
    "Cree una función en Python que dada una tupla de tuplas con números, produzca una tupla\n",
    "con el promedio de cada tupla individual. Tomar nota del siguiente ejemplo: \n",
    "- Si la tupla de entrada fuera: ((10, 10, 10, 12), (30, 45, 56, 45), (81, 80, 39, 32))\n",
    "- El resultado debería ser: (10.5, 44, 58)"
   ]
  },
  {
   "cell_type": "code",
   "execution_count": 12,
   "metadata": {},
   "outputs": [],
   "source": [
    "def problem_6(tuples=((10, 10, 10, 12), (30, 45, 56, 45), (81, 80, 39, 32))):\n",
    "    \n",
    "    averages = []\n",
    "    for elements in tuples:\n",
    "        average = 0\n",
    "        for element in elements:\n",
    "            average += element\n",
    "        average = average / (len(elements))\n",
    "        averages.append(average)\n",
    "\n",
    "    return tuple(averages)"
   ]
  },
  {
   "cell_type": "code",
   "execution_count": 13,
   "metadata": {},
   "outputs": [
    {
     "data": {
      "text/plain": [
       "(10.5, 44.0, 58.0)"
      ]
     },
     "execution_count": 13,
     "metadata": {},
     "output_type": "execute_result"
    }
   ],
   "source": [
    "problem_6()"
   ]
  },
  {
   "attachments": {},
   "cell_type": "markdown",
   "metadata": {},
   "source": [
    "## Problema 7\n",
    "Escribir un programa que gestione las facturas pendientes de cobro de una empresa. Las facturas se almacenarán en un diccionario donde la llave de cada factura será el número de factura (debe utilizar un numero de 4 dígitos) y el valor el coste de la factura. El programadebe preguntar al usuario si quiere añadir una nueva factura, pagar una existente o terminar.\n",
    "Si desea añadir una nueva factura se preguntará por el número de factura y su coste y se\n",
    "añadirá al diccionario, para confirmar que la factura se ingreso correctamente el programa debe desplegar el diccionario completo. Si se desea pagar una factura se preguntará por el número de factura y se eliminará del diccionario. Después de cada operación el programa debe mostrar en pantalla la cantidad cobrada hasta el momento y la cantidad pendiente de cobro. Puede utilizar otras estructuras de datos como apoyo si lo considera necesario"
   ]
  },
  {
   "cell_type": "code",
   "execution_count": 14,
   "metadata": {},
   "outputs": [],
   "source": [
    "class BillManager:\n",
    "    def __init__(self) -> None:\n",
    "        self.bills = {}\n",
    "        self.pending_amount = 0 \n",
    "        self.paid_amount = 0\n",
    "\n",
    "    def pay(self, number):\n",
    "        if (number in self.bills) :\n",
    "            amount = self.bills.pop(number)\n",
    "            self.pending_amount -= amount \n",
    "            self.paid_amount += amount\n",
    "        self.print_bill()\n",
    "\n",
    "    def add(self, number, amount):\n",
    "        if (number not in self.bills) :\n",
    "            self.pending_amount += amount \n",
    "            self.bills[number] = amount\n",
    "        self.print_bill()\n",
    "\n",
    "\n",
    "    def print_bill(self) :\n",
    "        print(self.bills)\n",
    "        print(f\"Cantidad pagada: {self.paid_amount}\" )\n",
    "        print(f\"Cantidad pendiente: {self.pending_amount}\")\n",
    "        print(\"_________________________________\")"
   ]
  },
  {
   "cell_type": "code",
   "execution_count": 15,
   "metadata": {},
   "outputs": [
    {
     "name": "stdout",
     "output_type": "stream",
     "text": [
      "{1234: 100}\n",
      "Cantidad pagada: 0\n",
      "Cantidad pendiente: 100\n",
      "_________________________________\n",
      "{1234: 100, 1235: 100}\n",
      "Cantidad pagada: 0\n",
      "Cantidad pendiente: 200\n",
      "_________________________________\n",
      "{1234: 100, 1235: 100, 1236: 100}\n",
      "Cantidad pagada: 0\n",
      "Cantidad pendiente: 300\n",
      "_________________________________\n",
      "{1235: 100, 1236: 100}\n",
      "Cantidad pagada: 100\n",
      "Cantidad pendiente: 200\n",
      "_________________________________\n"
     ]
    }
   ],
   "source": [
    "bill_manager = BillManager()\n",
    "bill_manager.add(1234, 100)\n",
    "bill_manager.add(1235, 100)\n",
    "bill_manager.add(1236, 100)\n",
    "\n",
    "bill_manager.pay(1234)"
   ]
  },
  {
   "attachments": {},
   "cell_type": "markdown",
   "metadata": {},
   "source": [
    "## Problema 8\n",
    "Haga una función en Python, que cree un set con todas las cartas de una baraja de Pocker utilizando el siguiente formato: \n",
    "\n",
    "Tipo-Numero. Utilice las letras T para tréboles, C para corazones, P para picas y E para espadas. Para los números utilice la numeración del 1 al 13.  Por ejemplo E13 - sería Rey de Espadas, P01 sería As de Picas, T05 sería cinco de Tréboles.\n",
    "\n",
    "Posteriormente cree una función que dado el conjunto anterior cree dos sets nuevos de cartas, cada conjunto debe tener una cantidad variable de elementos, puede utilizar números aleatorios enteros para definir la longitud de los conjuntos.\n",
    "\n",
    "Adicionalmente, debería calcular la probabilidad de la intersección de ambos conjuntos y demuestre si son eventos independientes con la regla del producto.\n",
    "\n",
    "Para concluir, calcule probabilidad de la unión de ambos conjuntos y demuestre que se cumple la regla de la adición."
   ]
  },
  {
   "cell_type": "code",
   "execution_count": 16,
   "metadata": {},
   "outputs": [],
   "source": [
    "import random\n",
    "def get_poker_cards():\n",
    "    poker_cards = []\n",
    "\n",
    "    for card in range(13):\n",
    "        poker_cards.append(f'T{card + 1}')\n",
    "\n",
    "    for card in range(13):\n",
    "        poker_cards.append(f'C{card + 1}')\n",
    "    \n",
    "    for card in range(13):\n",
    "        poker_cards.append(f'P{card + 1}')\n",
    "\n",
    "    for card in range(13):\n",
    "        poker_cards.append(f'E{card + 1}')\n",
    "\n",
    "    return poker_cards\n",
    "\n",
    "def get_sets(poker_cards):\n",
    "    length = len(poker_cards)\n",
    "    elements_set_1 = random.randint(1, length)\n",
    "    elements_set_2 = random.randint(1, length)\n",
    "\n",
    "    set_1 = random.choices(poker_cards, k=elements_set_1)\n",
    "    set_2 = random.choices(poker_cards, k=elements_set_2)\n",
    "\n",
    "    return set(set_1), set(set_2)\n",
    "\n",
    "def get_intersection(set_1, set_2):\n",
    "    return [value for value in set_1 if value in set_2]"
   ]
  },
  {
   "cell_type": "code",
   "execution_count": 20,
   "metadata": {},
   "outputs": [
    {
     "name": "stdout",
     "output_type": "stream",
     "text": [
      "{'T6', 'P12', 'C6', 'C5', 'E13', 'E12', 'C2', 'C11', 'C8', 'E3', 'E1', 'C4', 'T8', 'P11', 'E4', 'T4', 'P3', 'C3', 'E5', 'T5', 'P13', 'P5', 'T1', 'C9', 'P7', 'C10', 'C12', 'P4', 'P8', 'P6', 'E6'}\n",
      "{'E8', 'E7', 'C11', 'T1', 'P3', 'P6', 'E6'}\n",
      "['C11', 'P3', 'T1', 'P6', 'E6']\n",
      "Probabilidad A: 0.5961538461538461\n",
      "Probabilidad B: 0.1346153846153846\n",
      "Probabilidad Interseccion: 0.09615384615384616\n"
     ]
    }
   ],
   "source": [
    "poker_cards = get_poker_cards()\n",
    "\n",
    "set_1, set_2 = get_sets(poker_cards)\n",
    "intersection = get_intersection(set_1, set_2)\n",
    "print(set_1)\n",
    "print(set_2)\n",
    "print(intersection)\n",
    "\n",
    "probability_set_1 = len(set_1) / len(poker_cards)\n",
    "print(f\"Probabilidad A: {probability_set_1}\")\n",
    "probability_set_2 = len(set_2) / len(poker_cards)\n",
    "print(f\"Probabilidad B: {probability_set_2}\")\n",
    "probability_intersection = len(intersection) / len(poker_cards)\n",
    "print(f\"Probabilidad Interseccion: {probability_intersection}\")"
   ]
  },
  {
   "attachments": {},
   "cell_type": "markdown",
   "metadata": {},
   "source": [
    "Regla del producto: \n",
    "Los eventos $A$ y $B$ son independientes si $P(A\\cap B) = P(A) * P(B)$"
   ]
  },
  {
   "cell_type": "code",
   "execution_count": 21,
   "metadata": {},
   "outputs": [
    {
     "name": "stdout",
     "output_type": "stream",
     "text": [
      "0.08025147928994082\n",
      "0.09615384615384616\n",
      "Es independiente? False\n"
     ]
    }
   ],
   "source": [
    "is_independent = probability_set_1 * probability_set_2 == probability_intersection\n",
    "print(probability_set_1 * probability_set_2 )\n",
    "print(probability_intersection)\n",
    "print(\"Es independiente?\", is_independent)"
   ]
  },
  {
   "attachments": {},
   "cell_type": "markdown",
   "metadata": {},
   "source": [
    "Regla de la adición se cumple si $P(\\bar{A \\cup B)}$ es igual $1 - (A+B -A\\cap B)$ "
   ]
  },
  {
   "cell_type": "code",
   "execution_count": 22,
   "metadata": {},
   "outputs": [
    {
     "name": "stdout",
     "output_type": "stream",
     "text": [
      "0.3653846153846154\n",
      "0.36538461538461536\n"
     ]
    }
   ],
   "source": [
    "probability_union = probability_set_1 + probability_set_2 - probability_intersection\n",
    "\n",
    "not_in_sets = set(poker_cards) - set_1\n",
    "not_in_sets = not_in_sets - set_2\n",
    "\n",
    "probability_not_in_sets = len(not_in_sets)/len(poker_cards)\n",
    "\n",
    "print(1 - probability_union)\n",
    "print(probability_not_in_sets)\n"
   ]
  }
 ],
 "metadata": {
  "kernelspec": {
   "display_name": "Python 3",
   "language": "python",
   "name": "python3"
  },
  "language_info": {
   "codemirror_mode": {
    "name": "ipython",
    "version": 3
   },
   "file_extension": ".py",
   "mimetype": "text/x-python",
   "name": "python",
   "nbconvert_exporter": "python",
   "pygments_lexer": "ipython3",
   "version": "3.10.0"
  },
  "orig_nbformat": 4,
  "vscode": {
   "interpreter": {
    "hash": "aee8b7b246df8f9039afb4144a1f6fd8d2ca17a180786b69acc140d282b71a49"
   }
  }
 },
 "nbformat": 4,
 "nbformat_minor": 2
}
